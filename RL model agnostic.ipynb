{
 "cells": [
  {
   "cell_type": "code",
   "execution_count": null,
   "metadata": {
    "id": "voqBUDiv5SqA"
   },
   "outputs": [],
   "source": [
    "import numpy as np\n",
    "import torch\n",
    "import torch.nn as nn\n",
    "import pandas as pd\n",
    "from sklearn.model_selection import train_test_split\n",
    "from sklearn.metrics import accuracy_score, precision_score, recall_score\n",
    "from torch.autograd import Variable\n",
    "import matplotlib.patches as mpatches\n",
    "import matplotlib.pyplot as plt\n",
    "import random\n",
    "import math\n",
    "def seed_all(seed):\n",
    "    if not seed:\n",
    "        seed = 10\n",
    "    torch.manual_seed(seed)\n",
    "    torch.cuda.manual_seed_all(seed)\n",
    "    torch.cuda.manual_seed(seed)\n",
    "    np.random.seed(seed)\n",
    "    random.seed(seed)\n",
    "    torch.backends.cudnn.deterministic = True\n",
    "    torch.backends.cudnn.benchmark = False\n",
    "seed_all(1)"
   ]
  },
  {
   "cell_type": "code",
   "execution_count": null,
   "metadata": {
    "id": "51winZeg7uyM"
   },
   "outputs": [],
   "source": [
    "dataset = pd.read_csv('./iris.csv')\n",
    "\n",
    "# transform species to numerics\n",
    "dataset.loc[dataset.variety == 'Setosa', 'variety'] = 0\n",
    "dataset.loc[dataset.variety == 'Versicolor', 'variety'] = 1\n",
    "dataset.loc[dataset.variety == 'Virginica', 'variety'] = 2\n",
    "\n",
    "train_X, test_X, train_y, test_y = train_test_split(dataset[dataset.columns[0:4]].values,\n",
    "                                                    dataset.variety.values, test_size=0.2)\n",
    "\n",
    "tensor_train_x = Variable(torch.Tensor(train_X).float())\n",
    "tensor_train_y = Variable(torch.Tensor(list(train_y)).long())\n",
    "\n",
    "tensor_test_x = Variable(torch.Tensor(test_X).float())\n",
    "tensor_test_y = Variable(torch.Tensor(list(test_y)).long())"
   ]
  },
  {
   "cell_type": "code",
   "execution_count": null,
   "metadata": {
    "colab": {
     "base_uri": "https://localhost:8080/"
    },
    "id": "WFZMsB7GE7ly",
    "outputId": "374dd02e-825c-4e19-adb6-5e79617d0b8d"
   },
   "outputs": [],
   "source": [
    "path='./iris_model.pt'"
   ]
  },
  {
   "cell_type": "code",
   "execution_count": null,
   "metadata": {
    "colab": {
     "base_uri": "https://localhost:8080/",
     "height": 35
    },
    "id": "UJIWXuO06pp8",
    "outputId": "77f53baa-02fd-4fbb-cbb8-e33bcdd126a7"
   },
   "outputs": [],
   "source": [
    "def space_space_generator(action, length):\n",
    "    res= length *'0'+(bin(int(action))[2:])\n",
    "    if len(res) > length:\n",
    "        res=res[-length:]      \n",
    "    return res"
   ]
  },
  {
   "cell_type": "code",
   "execution_count": null,
   "metadata": {},
   "outputs": [],
   "source": [
    "def get_accuracy(x,y,model):\n",
    "    test_pred=model(x)\n",
    "    _, predict_y = torch.max(test_pred, 1)\n",
    "    return accuracy_score(y, predict_y)"
   ]
  },
  {
   "cell_type": "code",
   "execution_count": null,
   "metadata": {
    "id": "W0GsTpYE6teM"
   },
   "outputs": [],
   "source": [
    "def maxAction(Q, state, actions):\n",
    "#     print(actions, state,Q )\n",
    "#     x=input()\n",
    "    values = np.array([Q[state,a] for a in actions])\n",
    "    action = np.argmax(values)\n",
    "#     print(actions, state)\n",
    "    \n",
    "    return actions[action]"
   ]
  },
  {
   "cell_type": "code",
   "execution_count": null,
   "metadata": {
    "id": "y96QJv7t6iv8"
   },
   "outputs": [],
   "source": [
    "def adjust_weight(state_binary, weight, original):\n",
    "    w=[len(i) for i in original] \n",
    "#     print('\\n\\n\\n In binary', state_binary,'\\n\\n curr_w : ', weight, '\\n\\n orignial w', original)\n",
    "    binaries=[]\n",
    "    \n",
    "    number_weights=len(w)\n",
    "    \n",
    "    counter=0\n",
    "    for i in w:\n",
    "        binaries.append(state_binary[counter:counter+i])\n",
    "        counter=i\n",
    "     \n",
    "    for i,j,k in zip(weight,binaries, original):\n",
    "        for y in range(len(i)):\n",
    "            i[y]=0 if j[y]=='0' else k[y]\n",
    "     \n",
    "\n",
    "#     print('\\n\\n\\n Out binary', state_binary,'\\n\\n curr_w : ', weight, '\\n\\n orignial w', original)"
   ]
  },
  {
   "cell_type": "code",
   "execution_count": null,
   "metadata": {
    "id": "m2TMZpIt6ztf"
   },
   "outputs": [],
   "source": [
    "class ModelWorld(object):\n",
    "    \n",
    "    def __init__(self,  err, model_path, x_test, test_y):\n",
    "        \n",
    "        self.x_test=x_test\n",
    "        self.model = torch.load(model_path)\n",
    "        self.compressed_model = torch.load(model_path)\n",
    "        \n",
    "        self.test_y=test_y\n",
    "        \n",
    "        self.number_of_layers=0\n",
    "        self.number_of_parameters= 0\n",
    "        \n",
    "        self.o_weights=[]\n",
    "        self.all_shapes=[]        \n",
    "        self.c_weights=[]\n",
    "        \n",
    "        for name, param in self.compressed_model.named_parameters():  \n",
    "            if 'weight' in name:\n",
    "                self.c_weights.append(param.detach().flatten())\n",
    "                \n",
    "            \n",
    "        for name, param in self.model.named_parameters():            \n",
    "            \n",
    "            if 'weight' in name:       \n",
    "                self.number_of_layers+=1\n",
    "                self.number_of_parameters+=len(param.detach().flatten())\n",
    "                \n",
    "                self.o_weights.append(param.detach().flatten())\n",
    "                self.all_shapes.append(param.shape)\n",
    "   \n",
    "        \n",
    "        self.achived_acc = 0\n",
    "        self.acc = get_accuracy(self.x_test,self.test_y,self.model)\n",
    "        \n",
    "        self.err=err\n",
    "        \n",
    "        self.total_space=math.pow(2,self.number_of_parameters)\n",
    "        \n",
    "        self.action_space=[]\n",
    "        \n",
    "        for layer in range(self.number_of_layers):\n",
    "            dim=len(self.c_weights[layer])\n",
    "            self.action_space+=[(layer,i,'1') for i in range(dim)]+ [(layer,i,'0') for i in range(dim)]\n",
    "\n",
    "  \n",
    "#         self.weights = self.compressed_model[0].state_dict()['weight']\n",
    "      \n",
    "        \n",
    "        # since there are N  weight's , the space is a string of N. Then all combinations of N is the posible states.\n",
    "#         for layer in range(self.number_of_layers):\n",
    "        self.stateSpace =[space_space_generator(i, self.number_of_parameters) for i in range(int(self.total_space))] \n",
    "        \n",
    "        self.current_state='0'*self.number_of_parameters\n",
    "        \n",
    "        adjust_weight(self.current_state,self.c_weights, self.o_weights)\n",
    "\n",
    "\n",
    "    \n",
    "    def action_space_sample(self): # return random stuff here\n",
    "        return self.action_space[np.random.randint(len(self.action_space))]\n",
    "    \n",
    "    def take_action(self,action):\n",
    "#         print(\"In state : \", self.current_state, 'in action: ',action, \" : in wieght :\", self.c_weights )\n",
    "        \n",
    "        temp=list(self.current_state)        \n",
    "        \n",
    "        temp[action[1]]=action[2]\n",
    "        temp=''.join(temp)\n",
    "\n",
    "        self.current_state=temp\n",
    "\n",
    "        adjust_weight(self.current_state,self.c_weights, self.o_weights)\n",
    "    \n",
    "#         print(\" out state : \", self.current_state, \"Out weight\", self.c_weights)\n",
    "         \n",
    "        \n",
    "        self.achived_acc = get_accuracy(self.x_test,self.test_y, self.compressed_model)\n",
    "    \n",
    "    def legal_move(self,action):\n",
    "        return not (self.current_state[action[1]]==action[2])\n",
    "        \n",
    "    def step(self, action):        \n",
    "        done = bool ((np.abs(self.acc - self.achived_acc) <= self.err) or \\\n",
    "                     self.current_state.count('1') == self.number_of_parameters)\n",
    "    \n",
    "        added= 1 if action[2] == '1' else 0\n",
    "        if self.legal_move(action):\n",
    "\n",
    "            self.take_action(action)\n",
    "\n",
    "            reward = self.achived_acc -added\n",
    "            \n",
    "            \n",
    "        else:\n",
    "\n",
    "            reward = -2\n",
    "\n",
    "            \n",
    "        return self.current_state, reward, done, None\n",
    " \n",
    "    def reset(self):\n",
    "        self.current_state='0'*self.number_of_parameters\n",
    "        return self.current_state"
   ]
  },
  {
   "cell_type": "code",
   "execution_count": null,
   "metadata": {
    "colab": {
     "base_uri": "https://localhost:8080/"
    },
    "id": "zX7plg4S7Pc0",
    "outputId": "f1ae110c-dee5-4cfd-d663-f5daf65670cd"
   },
   "outputs": [],
   "source": [
    "compress = ModelWorld(.1,path,tensor_test_x,tensor_test_y)"
   ]
  },
  {
   "cell_type": "code",
   "execution_count": null,
   "metadata": {},
   "outputs": [],
   "source": [
    "compress.current_state"
   ]
  },
  {
   "cell_type": "code",
   "execution_count": null,
   "metadata": {},
   "outputs": [],
   "source": [
    "compress.number_of_parameters"
   ]
  },
  {
   "cell_type": "code",
   "execution_count": null,
   "metadata": {
    "colab": {
     "base_uri": "https://localhost:8080/",
     "height": 1000
    },
    "id": "SpJx800b62uz",
    "outputId": "6400f7b2-15db-4548-fd6b-944a47d4aeeb"
   },
   "outputs": [],
   "source": [
    "if __name__ == '__main__':\n",
    "    # model hyperparameters\n",
    "    ALPHA = 0.1\n",
    "    GAMMA = 1.0\n",
    "    EPS = 1.0\n",
    "\n",
    "    Q = {}\n",
    "    for state in compress.stateSpace:\n",
    "        for action in compress.action_space :\n",
    "            Q[state, action] = 0\n",
    "\n",
    "\n",
    "    numTrials = 5\n",
    "    totalRewards = np.zeros(numTrials)\n",
    "    total_played_per_game=[]\n",
    "    for i in range(numTrials):        \n",
    "#         if i % 10 == 0:\n",
    "        print('start compress ', i)\n",
    "        done = False\n",
    "        epRewards = 0\n",
    "        observation = compress.reset()\n",
    "        actions_taken_per_game=0\n",
    "  \n",
    "        while not done: \n",
    "#             print(\" State now is : \", compress.current_state/)\n",
    "            w_percentage=(list(compress.current_state).count('1')/8) *100\n",
    "            if actions_taken_per_game%50000==0:                 \n",
    "                print(\"w : \",w_percentage,'% Acc: ',compress.achived_acc , ' state:', compress.current_state)\n",
    "            actions_taken_per_game+=1\n",
    "            rand = np.random.random()\n",
    "            action = maxAction(Q,observation, compress.action_space) if rand < (1-EPS)  else compress.action_space_sample()\n",
    "\n",
    "            observation_, reward, done, info = compress.step(action)\n",
    "            epRewards += reward\n",
    "\n",
    "            action_ = maxAction(Q, observation_, compress.action_space)\n",
    "            \n",
    "            Q[observation,action] = Q[observation,action] + ALPHA*(reward + \\\n",
    "                        GAMMA*Q[observation_,action_] - Q[observation,action])\n",
    "            observation = observation_\n",
    " \n",
    "\n",
    "        if EPS - 2 / numTrials > 0:\n",
    "            EPS -= 2 / numTrials\n",
    "        else:\n",
    "            EPS = 0\n",
    "\n",
    "        totalRewards[i] = epRewards\n",
    "        total_played_per_game.append(actions_taken_per_game)\n",
    "        actions_taken_per_game=0\n",
    "\n",
    "    plt.plot(totalRewards)\n",
    "    plt.show()"
   ]
  },
  {
   "cell_type": "code",
   "execution_count": null,
   "metadata": {},
   "outputs": [],
   "source": [
    "total_played_per_game"
   ]
  },
  {
   "cell_type": "code",
   "execution_count": null,
   "metadata": {},
   "outputs": [],
   "source": [
    "small_model = compress.compressed_model"
   ]
  },
  {
   "cell_type": "code",
   "execution_count": null,
   "metadata": {},
   "outputs": [],
   "source": [
    "small_model[0].state_dict()['weight']"
   ]
  },
  {
   "cell_type": "code",
   "execution_count": null,
   "metadata": {},
   "outputs": [],
   "source": [
    "test_pred=small_model(tensor_test_x)\n",
    "_, predict_y = torch.max(test_pred, 1)\n",
    "print(accuracy_score(tensor_test_y, predict_y))"
   ]
  },
  {
   "cell_type": "code",
   "execution_count": null,
   "metadata": {},
   "outputs": [],
   "source": [
    "res=small_model(tensor_test_x)"
   ]
  },
  {
   "cell_type": "code",
   "execution_count": null,
   "metadata": {},
   "outputs": [],
   "source": [
    "res.shape"
   ]
  },
  {
   "cell_type": "code",
   "execution_count": null,
   "metadata": {},
   "outputs": [],
   "source": [
    "predict_y.shape"
   ]
  },
  {
   "cell_type": "code",
   "execution_count": null,
   "metadata": {},
   "outputs": [],
   "source": [
    "total_played_per_game"
   ]
  }
 ],
 "metadata": {
  "accelerator": "GPU",
  "colab": {
   "collapsed_sections": [],
   "name": "RL.ipynb",
   "provenance": []
  },
  "kernelspec": {
   "display_name": "Python 3 (ipykernel)",
   "language": "python",
   "name": "python3"
  },
  "language_info": {
   "codemirror_mode": {
    "name": "ipython",
    "version": 3
   },
   "file_extension": ".py",
   "mimetype": "text/x-python",
   "name": "python",
   "nbconvert_exporter": "python",
   "pygments_lexer": "ipython3",
   "version": "3.8.10"
  }
 },
 "nbformat": 4,
 "nbformat_minor": 1
}

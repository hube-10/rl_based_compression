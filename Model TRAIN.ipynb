{
 "cells": [
  {
   "cell_type": "markdown",
   "id": "52b8da78",
   "metadata": {},
   "source": [
    "https://towardsdatascience.com/creating-a-custom-openai-gym-environment-for-stock-trading-be532be3910e\n",
    "    https://www.kaggle.com/hwsiew/custom-gym-environment-for-reinforcement-learning"
   ]
  },
  {
   "cell_type": "code",
   "execution_count": 83,
   "id": "22d86ece",
   "metadata": {},
   "outputs": [],
   "source": [
    "import numpy as np\n",
    "import torch\n",
    "# import torch.nn as nn\n",
    "import pandas as pd\n",
    "from sklearn.model_selection import train_test_split\n",
    "from sklearn.metrics import accuracy_score, precision_score, recall_score\n",
    "from torch.autograd import Variable\n",
    "import matplotlib.patches as mpatches\n",
    "import matplotlib.pyplot as plt\n",
    "import random\n",
    "import torch.nn.utils.prune as prune\n",
    "\n",
    "def seed_all(seed):\n",
    "    if not seed:\n",
    "        seed = 10\n",
    "    torch.manual_seed(seed)\n",
    "    torch.cuda.manual_seed_all(seed)\n",
    "    torch.cuda.manual_seed(seed)\n",
    "    np.random.seed(seed)\n",
    "    random.seed(seed)\n",
    "    torch.backends.cudnn.deterministic = True\n",
    "    torch.backends.cudnn.benchmark = False\n",
    "seed_all(1)\n",
    "\n",
    "dataset = pd.read_csv('./pytorch_deep_learning-master/iris.csv')\n",
    "\n",
    "# transform species to numerics\n",
    "dataset.loc[dataset.variety == 'Setosa', 'variety'] = 0\n",
    "dataset.loc[dataset.variety == 'Versicolor', 'variety'] = 1\n",
    "dataset.loc[dataset.variety == 'Virginica', 'variety'] = 2\n",
    "\n",
    "train_X, test_X, train_y, test_y = train_test_split(dataset[dataset.columns[0:4]].values,\n",
    "                                                    dataset.variety.values, test_size=0.2)\n",
    "\n",
    "tensor_train_x = Variable(torch.Tensor(train_X).float())\n",
    "tensor_train_y = Variable(torch.Tensor(list(train_y)).long())\n",
    "\n",
    "tensor_test_x = Variable(torch.Tensor(test_X).float())\n",
    "tensor_test_y = Variable(torch.Tensor(list(test_y)).long())\n",
    "\n",
    "model = nn.Sequential(\n",
    "    nn.Linear(4, 2),\n",
    "    torch.nn.ReLU(),\n",
    "    nn.Linear(2, 3),\n",
    "    nn.Softmax(dim=1),\n",
    ")\n",
    "\n",
    "criterion = nn.CrossEntropyLoss()\n",
    "# Construct the optimizer (Stochastic Gradient Descent in this case)\n",
    "optimizer = torch.optim.Adam(model.parameters(), lr=0.001)\n",
    "\n"
   ]
  },
  {
   "cell_type": "code",
   "execution_count": 84,
   "id": "a5566734",
   "metadata": {},
   "outputs": [
    {
     "data": {
      "text/plain": [
       "Sequential(\n",
       "  (0): Linear(in_features=4, out_features=2, bias=True)\n",
       "  (1): ReLU()\n",
       "  (2): Linear(in_features=2, out_features=3, bias=True)\n",
       "  (3): Softmax(dim=1)\n",
       ")"
      ]
     },
     "execution_count": 84,
     "metadata": {},
     "output_type": "execute_result"
    }
   ],
   "source": []
  },
  {
   "cell_type": "code",
   "execution_count": 85,
   "id": "303205f4",
   "metadata": {},
   "outputs": [],
   "source": [
    "for epoch in range(1000):\n",
    "    # Forward pass: Compute predicted y by passing x to the model\n",
    "    y_pred = model(tensor_train_x)\n",
    "    \n",
    "    # Compute and print loss\n",
    "    loss = criterion(y_pred, tensor_train_y)\n",
    "#     if epoch % 10 == 0:\n",
    "#         print('number of epoch', epoch, 'loss', loss.item())\n",
    "#     print(\"here\")\n",
    "    optimizer.zero_grad()\n",
    "    loss.backward()\n",
    "    optimizer.step()\n",
    "\n",
    "\n"
   ]
  },
  {
   "cell_type": "code",
   "execution_count": null,
   "id": "c58d8b7d",
   "metadata": {},
   "outputs": [],
   "source": []
  },
  {
   "cell_type": "code",
   "execution_count": null,
   "id": "68b81bed",
   "metadata": {},
   "outputs": [],
   "source": [
    "test_pred=model(tensor_test_x)\n",
    "# print(test_pred)\n",
    "_, predict_y = torch.max(test_pred, 1)\n",
    "\n",
    "# print(tensor_test_y)\n",
    "# print(predict_y)\n",
    "\n",
    "print('Accuracy', accuracy_score(tensor_test_y, predict_y))"
   ]
  },
  {
   "cell_type": "code",
   "execution_count": 2,
   "id": "19cd30db",
   "metadata": {},
   "outputs": [],
   "source": [
    "torch.save(model, './iris_model.pt')"
   ]
  },
  {
   "cell_type": "code",
   "execution_count": 3,
   "id": "3140972a",
   "metadata": {},
   "outputs": [
    {
     "data": {
      "text/plain": [
       "Sequential(\n",
       "  (0): Linear(in_features=4, out_features=2, bias=True)\n",
       "  (1): ReLU()\n",
       "  (2): Linear(in_features=2, out_features=3, bias=True)\n",
       "  (3): Softmax(dim=1)\n",
       ")"
      ]
     },
     "execution_count": 3,
     "metadata": {},
     "output_type": "execute_result"
    }
   ],
   "source": [
    "# Model class must be defined somewhere\n",
    "model = torch.load('./iris_model.pt')\n",
    "model.eval()"
   ]
  },
  {
   "cell_type": "code",
   "execution_count": 9,
   "id": "d0ef15c2",
   "metadata": {},
   "outputs": [
    {
     "data": {
      "text/plain": [
       "<bound method Module.parameters of Sequential(\n",
       "  (0): Linear(in_features=4, out_features=2, bias=True)\n",
       "  (1): ReLU()\n",
       "  (2): Linear(in_features=2, out_features=3, bias=True)\n",
       "  (3): Softmax(dim=1)\n",
       ")>"
      ]
     },
     "execution_count": 9,
     "metadata": {},
     "output_type": "execute_result"
    }
   ],
   "source": [
    "model.parameters"
   ]
  },
  {
   "cell_type": "code",
   "execution_count": 13,
   "id": "c92cd046",
   "metadata": {},
   "outputs": [],
   "source": [
    "import torch\n",
    "from torch import nn\n",
    "import torch.nn.utils.prune as prune\n",
    "import torch.nn.functional as F"
   ]
  },
  {
   "cell_type": "code",
   "execution_count": 16,
   "id": "8f298906",
   "metadata": {},
   "outputs": [],
   "source": [
    "device = torch.device(\"cuda\" if torch.cuda.is_available() else \"cpu\")"
   ]
  },
  {
   "cell_type": "code",
   "execution_count": 18,
   "id": "c1a4fc1e",
   "metadata": {},
   "outputs": [],
   "source": [
    "model=model.to(device=device)"
   ]
  },
  {
   "cell_type": "code",
   "execution_count": 56,
   "id": "946505bb",
   "metadata": {},
   "outputs": [],
   "source": [
    "h=model.named_modules('Linear')"
   ]
  },
  {
   "cell_type": "code",
   "execution_count": null,
   "id": "d1929d4a",
   "metadata": {},
   "outputs": [],
   "source": []
  },
  {
   "cell_type": "code",
   "execution_count": null,
   "id": "59340dfa",
   "metadata": {},
   "outputs": [],
   "source": []
  },
  {
   "cell_type": "code",
   "execution_count": 2,
   "id": "77db3636",
   "metadata": {},
   "outputs": [
    {
     "data": {
      "text/plain": [
       "Sequential(\n",
       "  (0): Linear(in_features=4, out_features=2, bias=True)\n",
       "  (1): ReLU()\n",
       "  (2): Linear(in_features=2, out_features=3, bias=True)\n",
       "  (3): Softmax(dim=1)\n",
       ")"
      ]
     },
     "execution_count": 2,
     "metadata": {},
     "output_type": "execute_result"
    }
   ],
   "source": [
    "import numpy as np\n",
    "import torch\n",
    "# import torch.nn as nn\n",
    "import pandas as pd\n",
    "from sklearn.model_selection import train_test_split\n",
    "from sklearn.metrics import accuracy_score, precision_score, recall_score\n",
    "from torch.autograd import Variable\n",
    "import matplotlib.patches as mpatches\n",
    "import matplotlib.pyplot as plt\n",
    "import random\n"
   ]
  },
  {
   "cell_type": "code",
   "execution_count": 30,
   "id": "471a6457",
   "metadata": {},
   "outputs": [],
   "source": [
    "import torch.nn.utils.prune as prune"
   ]
  },
  {
   "cell_type": "code",
   "execution_count": 31,
   "id": "49c328fe",
   "metadata": {},
   "outputs": [
    {
     "data": {
      "text/plain": [
       "Sequential(\n",
       "  (0): Linear(in_features=4, out_features=2, bias=True)\n",
       "  (1): ReLU()\n",
       "  (2): Linear(in_features=2, out_features=3, bias=True)\n",
       "  (3): Softmax(dim=1)\n",
       ")"
      ]
     },
     "execution_count": 31,
     "metadata": {},
     "output_type": "execute_result"
    }
   ],
   "source": [
    "model = torch.load('./iris_model.pt')\n",
    "model.eval()"
   ]
  },
  {
   "cell_type": "code",
   "execution_count": 32,
   "id": "e0313e07",
   "metadata": {},
   "outputs": [
    {
     "data": {
      "text/plain": [
       "OrderedDict([('0.weight',\n",
       "              tensor([[ 0.5603,  0.7337, -1.0205, -0.7228],\n",
       "                      [-0.4707,  0.2999, -0.1029,  0.2544]])),\n",
       "             ('0.bias', tensor([ 1.2029, -0.0612])),\n",
       "             ('2.weight',\n",
       "              tensor([[ 1.0233,  0.0349],\n",
       "                      [ 0.2230, -0.2756],\n",
       "                      [-0.9948, -0.0637]])),\n",
       "             ('2.bias', tensor([-1.0414,  0.3191,  1.8118]))])"
      ]
     },
     "execution_count": 32,
     "metadata": {},
     "output_type": "execute_result"
    }
   ],
   "source": [
    "model.state_dict()"
   ]
  },
  {
   "cell_type": "code",
   "execution_count": 33,
   "id": "31ec7a06",
   "metadata": {},
   "outputs": [],
   "source": [
    "model[0]=prune.random_unstructured(model[0], name=\"weight\", amount=0.3)"
   ]
  },
  {
   "cell_type": "code",
   "execution_count": 34,
   "id": "fd93fdb7",
   "metadata": {},
   "outputs": [
    {
     "data": {
      "text/plain": [
       "OrderedDict([('0.bias', tensor([ 1.2029, -0.0612])),\n",
       "             ('0.weight_orig',\n",
       "              tensor([[ 0.5603,  0.7337, -1.0205, -0.7228],\n",
       "                      [-0.4707,  0.2999, -0.1029,  0.2544]])),\n",
       "             ('0.weight_mask',\n",
       "              tensor([[1., 0., 1., 1.],\n",
       "                      [1., 0., 1., 1.]])),\n",
       "             ('2.weight',\n",
       "              tensor([[ 1.0233,  0.0349],\n",
       "                      [ 0.2230, -0.2756],\n",
       "                      [-0.9948, -0.0637]])),\n",
       "             ('2.bias', tensor([-1.0414,  0.3191,  1.8118]))])"
      ]
     },
     "execution_count": 34,
     "metadata": {},
     "output_type": "execute_result"
    }
   ],
   "source": [
    "model.state_dict()"
   ]
  },
  {
   "cell_type": "code",
   "execution_count": null,
   "id": "b447dcbf",
   "metadata": {},
   "outputs": [],
   "source": []
  },
  {
   "cell_type": "code",
   "execution_count": null,
   "id": "7492ed10",
   "metadata": {},
   "outputs": [],
   "source": []
  },
  {
   "cell_type": "code",
   "execution_count": null,
   "id": "9a1de063",
   "metadata": {},
   "outputs": [],
   "source": []
  },
  {
   "cell_type": "code",
   "execution_count": null,
   "id": "b44bba8b",
   "metadata": {},
   "outputs": [],
   "source": []
  },
  {
   "cell_type": "code",
   "execution_count": null,
   "id": "b26c17f3",
   "metadata": {},
   "outputs": [],
   "source": []
  },
  {
   "cell_type": "code",
   "execution_count": 69,
   "id": "d43c98cb",
   "metadata": {},
   "outputs": [],
   "source": [
    "modul=model[0]"
   ]
  },
  {
   "cell_type": "code",
   "execution_count": 70,
   "id": "aa93336b",
   "metadata": {},
   "outputs": [
    {
     "data": {
      "text/plain": [
       "Linear(in_features=4, out_features=2, bias=True)"
      ]
     },
     "execution_count": 70,
     "metadata": {},
     "output_type": "execute_result"
    }
   ],
   "source": [
    "prune.random_unstructured(modul, name=\"weight\", amount=0.3)"
   ]
  },
  {
   "cell_type": "code",
   "execution_count": 82,
   "id": "a5e8738d",
   "metadata": {},
   "outputs": [
    {
     "data": {
      "text/plain": [
       "OrderedDict([('bias', tensor([ 1.2029, -0.0612])),\n",
       "             ('weight_orig',\n",
       "              tensor([[ 0.5603,  0.7337, -1.0205, -0.7228],\n",
       "                      [-0.4707,  0.2999, -0.1029,  0.2544]])),\n",
       "             ('weight_mask',\n",
       "              tensor([[0., 1., 1., 1.],\n",
       "                      [1., 1., 1., 0.]]))])"
      ]
     },
     "execution_count": 82,
     "metadata": {},
     "output_type": "execute_result"
    }
   ],
   "source": [
    "model[0].state_dict()"
   ]
  },
  {
   "cell_type": "code",
   "execution_count": null,
   "id": "b9b56fc1",
   "metadata": {},
   "outputs": [],
   "source": []
  },
  {
   "cell_type": "code",
   "execution_count": null,
   "id": "b479ff51",
   "metadata": {},
   "outputs": [],
   "source": []
  },
  {
   "cell_type": "code",
   "execution_count": null,
   "id": "a4714bea",
   "metadata": {},
   "outputs": [],
   "source": []
  }
 ],
 "metadata": {
  "kernelspec": {
   "display_name": "Python 3 (ipykernel)",
   "language": "python",
   "name": "python3"
  },
  "language_info": {
   "codemirror_mode": {
    "name": "ipython",
    "version": 3
   },
   "file_extension": ".py",
   "mimetype": "text/x-python",
   "name": "python",
   "nbconvert_exporter": "python",
   "pygments_lexer": "ipython3",
   "version": "3.8.10"
  }
 },
 "nbformat": 4,
 "nbformat_minor": 5
}

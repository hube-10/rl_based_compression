{
 "cells": [
  {
   "cell_type": "markdown",
   "metadata": {},
   "source": [
    "# Model compression"
   ]
  },
  {
   "cell_type": "code",
   "execution_count": 1,
   "metadata": {
    "id": "voqBUDiv5SqA"
   },
   "outputs": [],
   "source": [
    "import numpy as np\n",
    "import torch\n",
    "import torch.nn as nn\n",
    "import pandas as pd\n",
    "from sklearn.model_selection import train_test_split\n",
    "from sklearn.metrics import accuracy_score, precision_score, recall_score\n",
    "from torch.autograd import Variable\n",
    "import matplotlib.pyplot as plt\n",
    "import random, math\n",
    "import pickle\n",
    "\n",
    "def seed_all(seed):\n",
    "    if not seed:\n",
    "        seed = 10\n",
    "    torch.manual_seed(seed)\n",
    "    torch.cuda.manual_seed_all(seed)\n",
    "    torch.cuda.manual_seed(seed)\n",
    "    np.random.seed(seed)\n",
    "    random.seed(seed)\n",
    "    torch.backends.cudnn.deterministic = True\n",
    "    torch.backends.cudnn.benchmark = False\n",
    "seed_all(1)"
   ]
  },
  {
   "cell_type": "code",
   "execution_count": 2,
   "metadata": {
    "id": "51winZeg7uyM"
   },
   "outputs": [],
   "source": [
    "path='./iris_model.pt'\n",
    "dataset = pd.read_csv('./iris.csv')\n",
    "\n",
    "# transform species to numerics\n",
    "dataset.loc[dataset.variety == 'Setosa', 'variety'] = 0\n",
    "dataset.loc[dataset.variety == 'Versicolor', 'variety'] = 1\n",
    "dataset.loc[dataset.variety == 'Virginica', 'variety'] = 2\n",
    "\n",
    "train_X, test_X, train_y, test_y = train_test_split(dataset[dataset.columns[0:4]].values,\n",
    "                                                    dataset.variety.values, test_size=0.2)\n",
    "\n",
    "tensor_train_x = Variable(torch.Tensor(train_X).float())\n",
    "tensor_train_y = Variable(torch.Tensor(list(train_y)).long())\n",
    "\n",
    "tensor_test_x = Variable(torch.Tensor(test_X).float())\n",
    "tensor_test_y = Variable(torch.Tensor(list(test_y)).long())"
   ]
  },
  {
   "cell_type": "markdown",
   "metadata": {},
   "source": [
    "## Model original"
   ]
  },
  {
   "cell_type": "code",
   "execution_count": 3,
   "metadata": {
    "id": "JQAU921B6BYE"
   },
   "outputs": [],
   "source": [
    "model = torch.load(path)"
   ]
  },
  {
   "cell_type": "code",
   "execution_count": 4,
   "metadata": {},
   "outputs": [
    {
     "data": {
      "text/plain": [
       "OrderedDict([('0.weight',\n",
       "              tensor([[ 0.5603,  0.7337, -1.0205, -0.7228],\n",
       "                      [-0.4707,  0.2999, -0.1029,  0.2544]])),\n",
       "             ('0.bias', tensor([ 1.2029, -0.0612])),\n",
       "             ('2.weight',\n",
       "              tensor([[ 1.0233,  0.0349],\n",
       "                      [ 0.2230, -0.2756],\n",
       "                      [-0.9948, -0.0637]])),\n",
       "             ('2.bias', tensor([-1.0414,  0.3191,  1.8118]))])"
      ]
     },
     "execution_count": 4,
     "metadata": {},
     "output_type": "execute_result"
    }
   ],
   "source": [
    "model.state_dict()"
   ]
  },
  {
   "cell_type": "code",
   "execution_count": 5,
   "metadata": {},
   "outputs": [],
   "source": [
    "def adjust_weight(binary,weight, original):    \n",
    "    weight=weight.flatten()    \n",
    "    original=original.flatten()   \n",
    "    shape=original.shape\n",
    "    for i in range(len(weight)):\n",
    "      if binary[i]=='0' :\n",
    "          weight[i]= 0\n",
    "      else:\n",
    " \n",
    "        weight[i]= original[i]\n",
    "\n",
    "    weight=weight.reshape(shape)\n",
    "    original=original.reshape(shape)"
   ]
  },
  {
   "cell_type": "code",
   "execution_count": 6,
   "metadata": {},
   "outputs": [],
   "source": [
    "def get_accuracy(x,y,model):\n",
    "    test_pred=model(x)\n",
    "    _, predict_y = torch.max(test_pred, 1)\n",
    "    return accuracy_score(y, predict_y)"
   ]
  },
  {
   "cell_type": "code",
   "execution_count": 7,
   "metadata": {
    "colab": {
     "base_uri": "https://localhost:8080/",
     "height": 35
    },
    "id": "UJIWXuO06pp8",
    "outputId": "77f53baa-02fd-4fbb-cbb8-e33bcdd126a7"
   },
   "outputs": [],
   "source": [
    "def space_space_generator(action, length):\n",
    "    res= length *'0'+(bin(int(action))[2:])\n",
    "    if len(res) > length:\n",
    "        res=res[-length:]      \n",
    "    return res"
   ]
  },
  {
   "cell_type": "code",
   "execution_count": 8,
   "metadata": {
    "id": "W0GsTpYE6teM"
   },
   "outputs": [],
   "source": [
    "def maxAction(Q, state, actions):\n",
    "    values = np.array([Q[state,a] for a in actions])\n",
    "    action = np.argmax(values)\n",
    "    return actions[action]"
   ]
  },
  {
   "cell_type": "markdown",
   "metadata": {},
   "source": [
    "## Model enviroment"
   ]
  },
  {
   "cell_type": "code",
   "execution_count": 9,
   "metadata": {
    "id": "m2TMZpIt6ztf"
   },
   "outputs": [],
   "source": [
    "class ModelWorld(object):    \n",
    "    def __init__(self,  err, original_model, x_test, test_y, layer):\n",
    "        \n",
    "        self.x_test=x_test\n",
    "        self.model = original_model\n",
    "        \n",
    "        self.compressed_model = pickle.loads(pickle.dumps(original_model))\n",
    "        \n",
    "        self.test_y=test_y\n",
    "        \n",
    "\n",
    "            \n",
    "\n",
    "        self.original_weight=self.model[layer].state_dict()['weight'].detach().clone()\n",
    "        self.weights = self.compressed_model[layer].state_dict()['weight']\n",
    "        \n",
    "        self.number_of_parameters= len(self.original_weight.flatten())\n",
    "        self.total_space=int(math.pow(2,self.number_of_parameters))\n",
    "\n",
    "        \n",
    "        \n",
    "        self.achived_acc = 0\n",
    "        self.acc = get_accuracy(self.x_test,self.test_y,self.model)\n",
    "        \n",
    "        self.err=err\n",
    "        \n",
    "        self.action_space=[(i,'1') for i in range(self.number_of_parameters)]+ [(i,'0') for i in range(self.number_of_parameters)]\n",
    "\n",
    "  \n",
    "        self.stateSpace =[space_space_generator(i,self.number_of_parameters) for i in range(self.total_space)] \n",
    "\n",
    "        self.current_state='0'*self.number_of_parameters\n",
    "        \n",
    "        adjust_weight(self.current_state,self.weights, self.original_weight)\n",
    "#         print(self.current_state, 'here',self.number_of_parameters, self.weights)\n",
    "\n",
    "\n",
    "    \n",
    "    def action_space_sample(self): # return random stuff here\n",
    "        return self.action_space[np.random.randint(len(self.action_space))]\n",
    "    \n",
    "    def take_action(self,action):\n",
    "#         print(\"In state : \", self.current_state, 'in action: ',action, \" : in wieght :\", self.weights )\n",
    "        \n",
    "        temp=list(self.current_state)        \n",
    "        \n",
    "        temp[action[0]]=action[1]\n",
    "        temp=''.join(temp)\n",
    "\n",
    "        self.current_state=temp\n",
    "\n",
    "#         self.weights=adjust_weight(self.current_state, self.original_weight)\n",
    "        adjust_weight(self.current_state,self.weights, self.original_weight)\n",
    "\n",
    "    \n",
    "         \n",
    "        \n",
    "        self.achived_acc = get_accuracy(self.x_test,self.test_y, self.compressed_model)\n",
    "#         print(\"out state : \", self.current_state, \"Out acc\", self.achived_acc)\n",
    "        \n",
    "    \n",
    "    def legal_move(self,action):\n",
    "        return not (self.current_state[action[0]]==action[1])\n",
    "        \n",
    "    def step(self, action):        \n",
    "        done = bool ((np.abs(self.acc - self.achived_acc) <= self.err) or \\\n",
    "                     self.current_state.count('1') == self.number_of_parameters)\n",
    "    \n",
    "        added= 1 if action[1] == '1' else 0\n",
    "        if self.legal_move(action):\n",
    "\n",
    "            self.take_action(action)\n",
    "\n",
    "            reward = self.achived_acc -added\n",
    "            \n",
    "            \n",
    "        else:\n",
    "\n",
    "            reward = -2\n",
    "\n",
    "            \n",
    "        return self.current_state, reward, done, None\n",
    " \n",
    "    def reset(self):\n",
    "        self.current_state='0'*self.number_of_parameters\n",
    "        self.achived_acc=0\n",
    "        return self.current_state"
   ]
  },
  {
   "cell_type": "markdown",
   "metadata": {},
   "source": [
    "## Compressing inside a function"
   ]
  },
  {
   "cell_type": "code",
   "execution_count": 10,
   "metadata": {
    "colab": {
     "base_uri": "https://localhost:8080/",
     "height": 1000
    },
    "id": "SpJx800b62uz",
    "outputId": "6400f7b2-15db-4548-fd6b-944a47d4aeeb",
    "scrolled": false
   },
   "outputs": [],
   "source": [
    "def compress_model(path):\n",
    "    \n",
    "    compress=torch.load(path)\n",
    "    length=len(compress)\n",
    "    for layer in range(length):    \n",
    "       \n",
    "        \n",
    "        if layer%2!=0:\n",
    "            continue\n",
    "        print('compressing with layer ', layer,'\\n', compress.state_dict())\n",
    "        \n",
    "        \n",
    "        compress=ModelWorld(.1,compress,tensor_test_x,tensor_test_y,layer)\n",
    "        \n",
    "        \n",
    "        # model hyperparameters\n",
    "        ALPHA = 0.1\n",
    "        GAMMA = 1.0\n",
    "        EPS = 1.0\n",
    "\n",
    "        Q = {}\n",
    "        for state in compress.stateSpace:\n",
    "            for action in compress.action_space :\n",
    "                Q[state, action] = 0\n",
    "\n",
    "\n",
    "        numTrials = 10\n",
    "        totalRewards = np.zeros(numTrials)\n",
    "        total_played_per_game=[]\n",
    "        reward = 0\n",
    "        for i in range(numTrials):        \n",
    "        #         if i % 10 == 0:\n",
    "#             print('Compressing ...  ', i , 'reward ', reward)\n",
    "            done = False\n",
    "            epRewards = 0\n",
    "            observation = compress.reset()\n",
    "            actions_taken_per_game=0\n",
    "\n",
    "            while not done: \n",
    "                w_percentage=(list(compress.current_state).count('1')/compress.number_of_parameters) *100\n",
    "                if numTrials%10 ==0:\n",
    "                    print(\"\\tw : \",w_percentage,'% Ach acc: ',compress.achived_acc , ' state:', compress.current_state)\n",
    "                actions_taken_per_game+=1\n",
    "                rand = np.random.random()\n",
    "                \n",
    "                # ACTION CHOOSE EXLORE OR EXPLOIT\n",
    "                action = maxAction(Q,observation, compress.action_space) if rand < (1-EPS)  else compress.action_space_sample()\n",
    "\n",
    "                observation_, reward, done, info = compress.step(action)\n",
    "                epRewards += reward\n",
    "\n",
    "                action_ = maxAction(Q, observation_, compress.action_space)\n",
    "\n",
    "                Q[observation,action] = Q[observation,action] + ALPHA*(reward + \\\n",
    "                            GAMMA*Q[observation_,action_] - Q[observation,action])\n",
    "                observation = observation_\n",
    "\n",
    "\n",
    "            if EPS - 2 / numTrials > 0:\n",
    "                EPS -= 2 / numTrials\n",
    "            else:\n",
    "                EPS = 0\n",
    "\n",
    "            totalRewards[i] = epRewards\n",
    "            total_played_per_game.append(actions_taken_per_game)\n",
    "            actions_taken_per_game=0\n",
    "    #     print(.state_dict())\n",
    "        compress=compress.compressed_model\n",
    "    return compress\n",
    "\n"
   ]
  },
  {
   "cell_type": "code",
   "execution_count": 11,
   "metadata": {
    "colab": {
     "base_uri": "https://localhost:8080/"
    },
    "id": "zX7plg4S7Pc0",
    "outputId": "f1ae110c-dee5-4cfd-d663-f5daf65670cd"
   },
   "outputs": [
    {
     "name": "stdout",
     "output_type": "stream",
     "text": [
      "compressing with layer  0 \n",
      " OrderedDict([('0.weight', tensor([[ 0.5603,  0.7337, -1.0205, -0.7228],\n",
      "        [-0.4707,  0.2999, -0.1029,  0.2544]])), ('0.bias', tensor([ 1.2029, -0.0612])), ('2.weight', tensor([[ 1.0233,  0.0349],\n",
      "        [ 0.2230, -0.2756],\n",
      "        [-0.9948, -0.0637]])), ('2.bias', tensor([-1.0414,  0.3191,  1.8118]))])\n",
      "\tw :  0.0 % Ach acc:  0  state: 00000000\n",
      "\tw :  12.5 % Ach acc:  0.36666666666666664  state: 10000000\n",
      "\tw :  0.0 % Ach acc:  0.2  state: 00000000\n",
      "\tw :  12.5 % Ach acc:  0.2  state: 00000001\n",
      "\tw :  25.0 % Ach acc:  0.2  state: 00010001\n",
      "\tw :  25.0 % Ach acc:  0.2  state: 00010001\n",
      "\tw :  37.5 % Ach acc:  0.2  state: 00011001\n",
      "\tw :  37.5 % Ach acc:  0.2  state: 00011001\n",
      "\tw :  25.0 % Ach acc:  0.2  state: 00011000\n",
      "\tw :  25.0 % Ach acc:  0.2  state: 00011000\n",
      "\tw :  37.5 % Ach acc:  0.2  state: 00011100\n",
      "\tw :  37.5 % Ach acc:  0.2  state: 00011100\n",
      "\tw :  37.5 % Ach acc:  0.2  state: 00011100\n",
      "\tw :  50.0 % Ach acc:  0.36666666666666664  state: 01011100\n",
      "\tw :  37.5 % Ach acc:  0.36666666666666664  state: 01011000\n",
      "\tw :  37.5 % Ach acc:  0.36666666666666664  state: 01011000\n",
      "\tw :  25.0 % Ach acc:  0.36666666666666664  state: 01010000\n",
      "\tw :  25.0 % Ach acc:  0.36666666666666664  state: 01010000\n",
      "\tw :  25.0 % Ach acc:  0.36666666666666664  state: 01010000\n",
      "\tw :  25.0 % Ach acc:  0.36666666666666664  state: 01010000\n",
      "\tw :  25.0 % Ach acc:  0.36666666666666664  state: 01010000\n",
      "\tw :  25.0 % Ach acc:  0.36666666666666664  state: 01010000\n",
      "\tw :  25.0 % Ach acc:  0.36666666666666664  state: 01010000\n",
      "\tw :  37.5 % Ach acc:  0.36666666666666664  state: 11010000\n",
      "\tw :  50.0 % Ach acc:  0.36666666666666664  state: 11010001\n",
      "\tw :  50.0 % Ach acc:  0.36666666666666664  state: 11010001\n",
      "\tw :  37.5 % Ach acc:  0.36666666666666664  state: 01010001\n",
      "\tw :  50.0 % Ach acc:  0.36666666666666664  state: 11010001\n",
      "\tw :  50.0 % Ach acc:  0.36666666666666664  state: 11010001\n",
      "\tw :  37.5 % Ach acc:  0.36666666666666664  state: 10010001\n",
      "\tw :  37.5 % Ach acc:  0.36666666666666664  state: 10010001\n",
      "\tw :  37.5 % Ach acc:  0.36666666666666664  state: 10010001\n",
      "\tw :  25.0 % Ach acc:  0.36666666666666664  state: 10010000\n",
      "\tw :  25.0 % Ach acc:  0.36666666666666664  state: 10010000\n",
      "\tw :  12.5 % Ach acc:  0.36666666666666664  state: 10000000\n",
      "\tw :  25.0 % Ach acc:  0.36666666666666664  state: 10000010\n",
      "\tw :  37.5 % Ach acc:  0.36666666666666664  state: 10000110\n",
      "\tw :  37.5 % Ach acc:  0.36666666666666664  state: 10000110\n",
      "\tw :  50.0 % Ach acc:  0.36666666666666664  state: 10001110\n",
      "\tw :  62.5 % Ach acc:  0.36666666666666664  state: 10011110\n",
      "\tw :  62.5 % Ach acc:  0.36666666666666664  state: 10011110\n",
      "\tw :  62.5 % Ach acc:  0.36666666666666664  state: 10011110\n",
      "\tw :  62.5 % Ach acc:  0.36666666666666664  state: 10011110\n",
      "\tw :  75.0 % Ach acc:  0.36666666666666664  state: 11011110\n",
      "\tw :  75.0 % Ach acc:  0.36666666666666664  state: 11011110\n",
      "\tw :  62.5 % Ach acc:  0.36666666666666664  state: 01011110\n",
      "\tw :  62.5 % Ach acc:  0.36666666666666664  state: 01011110\n",
      "\tw :  50.0 % Ach acc:  0.36666666666666664  state: 01010110\n",
      "\tw :  50.0 % Ach acc:  0.36666666666666664  state: 01010110\n",
      "\tw :  50.0 % Ach acc:  0.36666666666666664  state: 01010110\n",
      "\tw :  50.0 % Ach acc:  0.36666666666666664  state: 01010110\n",
      "\tw :  37.5 % Ach acc:  0.36666666666666664  state: 01010010\n",
      "\tw :  37.5 % Ach acc:  0.36666666666666664  state: 01010010\n",
      "\tw :  50.0 % Ach acc:  0.5666666666666667  state: 01110010\n",
      "\tw :  37.5 % Ach acc:  0.2  state: 00110010\n",
      "\tw :  37.5 % Ach acc:  0.2  state: 00110010\n",
      "\tw :  37.5 % Ach acc:  0.2  state: 00110010\n",
      "\tw :  37.5 % Ach acc:  0.2  state: 00110010\n",
      "\tw :  25.0 % Ach acc:  0.2  state: 00010010\n",
      "\tw :  37.5 % Ach acc:  0.2  state: 00010011\n",
      "\tw :  50.0 % Ach acc:  0.2  state: 00010111\n",
      "\tw :  50.0 % Ach acc:  0.2  state: 00010111\n",
      "\tw :  62.5 % Ach acc:  0.36666666666666664  state: 10010111\n",
      "\tw :  50.0 % Ach acc:  0.36666666666666664  state: 10010110\n",
      "\tw :  37.5 % Ach acc:  0.36666666666666664  state: 10010100\n",
      "\tw :  37.5 % Ach acc:  0.36666666666666664  state: 10010100\n",
      "\tw :  37.5 % Ach acc:  0.36666666666666664  state: 10010100\n",
      "\tw :  50.0 % Ach acc:  0.5666666666666667  state: 10110100\n",
      "\tw :  50.0 % Ach acc:  0.5666666666666667  state: 10110100\n",
      "\tw :  37.5 % Ach acc:  0.5666666666666667  state: 10100100\n",
      "\tw :  37.5 % Ach acc:  0.5666666666666667  state: 10100100\n",
      "\tw :  25.0 % Ach acc:  0.36666666666666664  state: 10000100\n",
      "\tw :  37.5 % Ach acc:  0.36666666666666664  state: 10000101\n",
      "\tw :  37.5 % Ach acc:  0.36666666666666664  state: 10000101\n",
      "\tw :  50.0 % Ach acc:  0.36666666666666664  state: 10000111\n",
      "\tw :  37.5 % Ach acc:  0.36666666666666664  state: 10000011\n",
      "\tw :  50.0 % Ach acc:  0.36666666666666664  state: 11000011\n",
      "\tw :  37.5 % Ach acc:  0.36666666666666664  state: 01000011\n",
      "\tw :  50.0 % Ach acc:  0.36666666666666664  state: 01001011\n",
      "\tw :  50.0 % Ach acc:  0.36666666666666664  state: 01001011\n",
      "\tw :  37.5 % Ach acc:  0.36666666666666664  state: 01001010\n",
      "\tw :  37.5 % Ach acc:  0.36666666666666664  state: 01001010\n",
      "\tw :  50.0 % Ach acc:  0.36666666666666664  state: 01001011\n",
      "\tw :  62.5 % Ach acc:  0.5666666666666667  state: 01101011\n",
      "\tw :  62.5 % Ach acc:  0.5666666666666667  state: 01101011\n",
      "\tw :  62.5 % Ach acc:  0.5666666666666667  state: 01101011\n",
      "\tw :  75.0 % Ach acc:  0.36666666666666664  state: 11101011\n",
      "\tw :  75.0 % Ach acc:  0.36666666666666664  state: 11101011\n",
      "\tw :  75.0 % Ach acc:  0.36666666666666664  state: 11101011\n",
      "\tw :  62.5 % Ach acc:  0.36666666666666664  state: 11100011\n",
      "\tw :  50.0 % Ach acc:  0.36666666666666664  state: 11100010\n",
      "\tw :  37.5 % Ach acc:  0.5666666666666667  state: 10100010\n",
      "\tw :  37.5 % Ach acc:  0.5666666666666667  state: 10100010\n",
      "\tw :  50.0 % Ach acc:  0.5666666666666667  state: 10101010\n",
      "\tw :  37.5 % Ach acc:  0.36666666666666664  state: 10001010\n",
      "\tw :  37.5 % Ach acc:  0.36666666666666664  state: 10001010\n",
      "\tw :  25.0 % Ach acc:  0.36666666666666664  state: 10001000\n",
      "\tw :  25.0 % Ach acc:  0.36666666666666664  state: 10001000\n",
      "\tw :  25.0 % Ach acc:  0.36666666666666664  state: 10001000\n",
      "\tw :  37.5 % Ach acc:  0.36666666666666664  state: 10001100\n",
      "\tw :  25.0 % Ach acc:  0.36666666666666664  state: 10001000\n",
      "\tw :  25.0 % Ach acc:  0.36666666666666664  state: 10001000\n",
      "\tw :  37.5 % Ach acc:  0.5666666666666667  state: 10101000\n",
      "\tw :  37.5 % Ach acc:  0.5666666666666667  state: 10101000\n",
      "\tw :  37.5 % Ach acc:  0.5666666666666667  state: 10101000\n",
      "\tw :  50.0 % Ach acc:  0.36666666666666664  state: 11101000\n",
      "\tw :  62.5 % Ach acc:  0.7  state: 11111000\n",
      "\tw :  0.0 % Ach acc:  0  state: 00000000\n",
      "\tw :  0.0 % Ach acc:  0  state: 00000000\n",
      "\tw :  12.5 % Ach acc:  0.2  state: 00100000\n",
      "\tw :  12.5 % Ach acc:  0.2  state: 00100000\n",
      "\tw :  0.0 % Ach acc:  0.2  state: 00000000\n",
      "\tw :  12.5 % Ach acc:  0.36666666666666664  state: 01000000\n",
      "\tw :  25.0 % Ach acc:  0.36666666666666664  state: 11000000\n",
      "\tw :  12.5 % Ach acc:  0.36666666666666664  state: 10000000\n",
      "\tw :  12.5 % Ach acc:  0.36666666666666664  state: 10000000\n",
      "\tw :  25.0 % Ach acc:  0.36666666666666664  state: 10000010\n",
      "\tw :  37.5 % Ach acc:  0.36666666666666664  state: 10001010\n",
      "\tw :  50.0 % Ach acc:  0.36666666666666664  state: 10011010\n",
      "\tw :  50.0 % Ach acc:  0.36666666666666664  state: 10011010\n",
      "\tw :  62.5 % Ach acc:  0.36666666666666664  state: 11011010\n",
      "\tw :  62.5 % Ach acc:  0.36666666666666664  state: 11011010\n",
      "\tw :  62.5 % Ach acc:  0.36666666666666664  state: 11011010\n",
      "\tw :  62.5 % Ach acc:  0.36666666666666664  state: 11011010\n",
      "\tw :  75.0 % Ach acc:  0.7  state: 11111010\n",
      "\tw :  0.0 % Ach acc:  0  state: 00000000\n",
      "\tw :  0.0 % Ach acc:  0  state: 00000000\n",
      "\tw :  0.0 % Ach acc:  0  state: 00000000\n",
      "\tw :  12.5 % Ach acc:  0.36666666666666664  state: 10000000\n",
      "\tw :  0.0 % Ach acc:  0.2  state: 00000000\n",
      "\tw :  12.5 % Ach acc:  0.2  state: 00010000\n",
      "\tw :  25.0 % Ach acc:  0.36666666666666664  state: 10010000\n",
      "\tw :  25.0 % Ach acc:  0.36666666666666664  state: 10010000\n",
      "\tw :  12.5 % Ach acc:  0.36666666666666664  state: 10000000\n",
      "\tw :  25.0 % Ach acc:  0.36666666666666664  state: 10000001\n",
      "\tw :  25.0 % Ach acc:  0.36666666666666664  state: 10000001\n",
      "\tw :  37.5 % Ach acc:  0.36666666666666664  state: 11000001\n",
      "\tw :  37.5 % Ach acc:  0.36666666666666664  state: 11000001\n",
      "\tw :  37.5 % Ach acc:  0.36666666666666664  state: 11000001\n",
      "\tw :  50.0 % Ach acc:  0.36666666666666664  state: 11100001\n",
      "\tw :  62.5 % Ach acc:  0.36666666666666664  state: 11100101\n",
      "\tw :  62.5 % Ach acc:  0.36666666666666664  state: 11100101\n",
      "\tw :  50.0 % Ach acc:  0.5666666666666667  state: 10100101\n",
      "\tw :  50.0 % Ach acc:  0.5666666666666667  state: 10100101\n",
      "\tw :  62.5 % Ach acc:  0.36666666666666664  state: 11100101\n",
      "\tw :  50.0 % Ach acc:  0.5666666666666667  state: 10100101\n",
      "\tw :  50.0 % Ach acc:  0.5666666666666667  state: 10100101\n",
      "\tw :  50.0 % Ach acc:  0.5666666666666667  state: 10100101\n",
      "\tw :  37.5 % Ach acc:  0.5666666666666667  state: 10100001\n",
      "\tw :  25.0 % Ach acc:  0.2  state: 00100001\n",
      "\tw :  37.5 % Ach acc:  0.5666666666666667  state: 10100001\n",
      "\tw :  50.0 % Ach acc:  0.5666666666666667  state: 10110001\n",
      "\tw :  50.0 % Ach acc:  0.5666666666666667  state: 10110001\n",
      "\tw :  50.0 % Ach acc:  0.5666666666666667  state: 10110001\n",
      "\tw :  62.5 % Ach acc:  0.6666666666666666  state: 11110001\n",
      "\tw :  0.0 % Ach acc:  0  state: 00000000\n",
      "\tw :  0.0 % Ach acc:  0  state: 00000000\n",
      "\tw :  0.0 % Ach acc:  0  state: 00000000\n",
      "\tw :  0.0 % Ach acc:  0  state: 00000000\n",
      "\tw :  12.5 % Ach acc:  0.2  state: 00001000\n",
      "\tw :  25.0 % Ach acc:  0.36666666666666664  state: 10001000\n",
      "\tw :  37.5 % Ach acc:  0.36666666666666664  state: 10011000\n",
      "\tw :  37.5 % Ach acc:  0.36666666666666664  state: 10011000\n",
      "\tw :  50.0 % Ach acc:  0.36666666666666664  state: 11011000\n",
      "\tw :  50.0 % Ach acc:  0.36666666666666664  state: 11011000\n",
      "\tw :  50.0 % Ach acc:  0.36666666666666664  state: 11011000\n",
      "\tw :  62.5 % Ach acc:  0.7  state: 11111000\n",
      "\tw :  0.0 % Ach acc:  0  state: 00000000\n",
      "\tw :  0.0 % Ach acc:  0  state: 00000000\n",
      "\tw :  12.5 % Ach acc:  0.2  state: 00000100\n",
      "\tw :  25.0 % Ach acc:  0.36666666666666664  state: 10000100\n",
      "\tw :  25.0 % Ach acc:  0.36666666666666664  state: 10000100\n",
      "\tw :  37.5 % Ach acc:  0.36666666666666664  state: 11000100\n",
      "\tw :  37.5 % Ach acc:  0.36666666666666664  state: 11000100\n",
      "\tw :  37.5 % Ach acc:  0.36666666666666664  state: 11000100\n",
      "\tw :  50.0 % Ach acc:  0.4  state: 11100100\n",
      "\tw :  50.0 % Ach acc:  0.4  state: 11100100\n",
      "\tw :  50.0 % Ach acc:  0.4  state: 11100100\n",
      "\tw :  50.0 % Ach acc:  0.4  state: 11100100\n",
      "\tw :  50.0 % Ach acc:  0.4  state: 11100100\n",
      "\tw :  62.5 % Ach acc:  0.6  state: 11110100\n",
      "\tw :  0.0 % Ach acc:  0  state: 00000000\n",
      "\tw :  12.5 % Ach acc:  0.2  state: 00000010\n",
      "\tw :  25.0 % Ach acc:  0.36666666666666664  state: 10000010\n",
      "\tw :  25.0 % Ach acc:  0.36666666666666664  state: 10000010\n",
      "\tw :  37.5 % Ach acc:  0.36666666666666664  state: 11000010\n",
      "\tw :  37.5 % Ach acc:  0.36666666666666664  state: 11000010\n",
      "\tw :  37.5 % Ach acc:  0.36666666666666664  state: 11000010\n",
      "\tw :  50.0 % Ach acc:  0.36666666666666664  state: 11100010\n",
      "\tw :  37.5 % Ach acc:  0.5666666666666667  state: 10100010\n",
      "\tw :  37.5 % Ach acc:  0.5666666666666667  state: 10100010\n",
      "\tw :  50.0 % Ach acc:  0.36666666666666664  state: 11100010\n",
      "\tw :  37.5 % Ach acc:  0.5666666666666667  state: 10100010\n",
      "\tw :  37.5 % Ach acc:  0.5666666666666667  state: 10100010\n",
      "\tw :  50.0 % Ach acc:  0.5666666666666667  state: 10110010\n",
      "\tw :  50.0 % Ach acc:  0.5666666666666667  state: 10110010\n",
      "\tw :  62.5 % Ach acc:  0.7  state: 11110010\n",
      "\tw :  0.0 % Ach acc:  0  state: 00000000\n",
      "\tw :  0.0 % Ach acc:  0  state: 00000000\n",
      "\tw :  0.0 % Ach acc:  0  state: 00000000\n",
      "\tw :  0.0 % Ach acc:  0  state: 00000000\n",
      "\tw :  0.0 % Ach acc:  0  state: 00000000\n",
      "\tw :  12.5 % Ach acc:  0.36666666666666664  state: 01000000\n",
      "\tw :  12.5 % Ach acc:  0.36666666666666664  state: 01000000\n",
      "\tw :  25.0 % Ach acc:  0.5666666666666667  state: 01100000\n",
      "\tw :  37.5 % Ach acc:  0.36666666666666664  state: 11100000\n",
      "\tw :  37.5 % Ach acc:  0.36666666666666664  state: 11100000\n",
      "\tw :  37.5 % Ach acc:  0.36666666666666664  state: 11100000\n",
      "\tw :  37.5 % Ach acc:  0.36666666666666664  state: 11100000\n",
      "\tw :  50.0 % Ach acc:  0.7  state: 11110000\n",
      "\tw :  0.0 % Ach acc:  0  state: 00000000\n",
      "\tw :  12.5 % Ach acc:  0.2  state: 00100000\n",
      "\tw :  0.0 % Ach acc:  0.2  state: 00000000\n",
      "\tw :  12.5 % Ach acc:  0.2  state: 00010000\n",
      "\tw :  25.0 % Ach acc:  0.36666666666666664  state: 01010000\n",
      "\tw :  37.5 % Ach acc:  0.5666666666666667  state: 01110000\n",
      "\tw :  50.0 % Ach acc:  0.7  state: 11110000\n",
      "\tw :  0.0 % Ach acc:  0  state: 00000000\n",
      "\tw :  12.5 % Ach acc:  0.2  state: 00001000\n",
      "\tw :  25.0 % Ach acc:  0.36666666666666664  state: 01001000\n",
      "\tw :  37.5 % Ach acc:  0.36666666666666664  state: 11001000\n",
      "\tw :  37.5 % Ach acc:  0.36666666666666664  state: 11001000\n",
      "\tw :  37.5 % Ach acc:  0.36666666666666664  state: 11001000\n",
      "\tw :  50.0 % Ach acc:  0.36666666666666664  state: 11101000\n",
      "\tw :  50.0 % Ach acc:  0.36666666666666664  state: 11101000\n",
      "\tw :  50.0 % Ach acc:  0.36666666666666664  state: 11101000\n",
      "\tw :  50.0 % Ach acc:  0.36666666666666664  state: 11101000\n",
      "\tw :  50.0 % Ach acc:  0.36666666666666664  state: 11101000\n",
      "\tw :  62.5 % Ach acc:  0.36666666666666664  state: 11101100\n",
      "\tw :  62.5 % Ach acc:  0.36666666666666664  state: 11101100\n",
      "\tw :  62.5 % Ach acc:  0.36666666666666664  state: 11101100\n",
      "\tw :  62.5 % Ach acc:  0.36666666666666664  state: 11101100\n",
      "\tw :  75.0 % Ach acc:  0.7  state: 11111100\n",
      "\tw :  0.0 % Ach acc:  0  state: 00000000\n",
      "\tw :  12.5 % Ach acc:  0.2  state: 00000100\n",
      "\tw :  25.0 % Ach acc:  0.36666666666666664  state: 01000100\n",
      "\tw :  37.5 % Ach acc:  0.36666666666666664  state: 11000100\n",
      "\tw :  50.0 % Ach acc:  0.36666666666666664  state: 11010100\n",
      "\tw :  50.0 % Ach acc:  0.36666666666666664  state: 11010100\n",
      "\tw :  50.0 % Ach acc:  0.36666666666666664  state: 11010100\n",
      "\tw :  62.5 % Ach acc:  0.6  state: 11110100\n",
      "compressing with layer  2 \n",
      " OrderedDict([('0.weight', tensor([[ 0.5603,  0.7337, -1.0205, -0.7228],\n",
      "        [ 0.0000,  0.2999,  0.0000,  0.0000]])), ('0.bias', tensor([ 1.2029, -0.0612])), ('2.weight', tensor([[ 1.0233,  0.0349],\n",
      "        [ 0.2230, -0.2756],\n",
      "        [-0.9948, -0.0637]])), ('2.bias', tensor([-1.0414,  0.3191,  1.8118]))])\n",
      "\tw :  0.0 % Ach acc:  0  state: 000000\n",
      "\tw :  16.666666666666664 % Ach acc:  0.5666666666666667  state: 100000\n",
      "\tw :  0.0 % Ach acc:  0  state: 000000\n",
      "\tw :  16.666666666666664 % Ach acc:  0.2  state: 010000\n",
      "\tw :  33.33333333333333 % Ach acc:  0.5666666666666667  state: 110000\n",
      "\tw :  0.0 % Ach acc:  0  state: 000000\n",
      "\tw :  16.666666666666664 % Ach acc:  0.2  state: 001000\n",
      "\tw :  33.33333333333333 % Ach acc:  0.2  state: 001001\n",
      "\tw :  50.0 % Ach acc:  0.5666666666666667  state: 101001\n",
      "\tw :  0.0 % Ach acc:  0  state: 000000\n",
      "\tw :  16.666666666666664 % Ach acc:  0.2  state: 000100\n",
      "\tw :  33.33333333333333 % Ach acc:  0.2  state: 010100\n",
      "\tw :  16.666666666666664 % Ach acc:  0.2  state: 010000\n",
      "\tw :  16.666666666666664 % Ach acc:  0.2  state: 010000\n",
      "\tw :  33.33333333333333 % Ach acc:  0.2  state: 011000\n",
      "\tw :  16.666666666666664 % Ach acc:  0.2  state: 010000\n",
      "\tw :  16.666666666666664 % Ach acc:  0.2  state: 010000\n",
      "\tw :  33.33333333333333 % Ach acc:  0.2  state: 010100\n",
      "\tw :  50.0 % Ach acc:  0.23333333333333334  state: 010110\n",
      "\tw :  50.0 % Ach acc:  0.23333333333333334  state: 010110\n",
      "\tw :  66.66666666666666 % Ach acc:  0.5666666666666667  state: 110110\n",
      "\tw :  0.0 % Ach acc:  0  state: 000000\n",
      "\tw :  16.666666666666664 % Ach acc:  0.26666666666666666  state: 000010\n",
      "\tw :  16.666666666666664 % Ach acc:  0.26666666666666666  state: 000010\n",
      "\tw :  33.33333333333333 % Ach acc:  0.5666666666666667  state: 100010\n",
      "\tw :  0.0 % Ach acc:  0  state: 000000\n",
      "\tw :  16.666666666666664 % Ach acc:  0.2  state: 000001\n",
      "\tw :  33.33333333333333 % Ach acc:  0.5666666666666667  state: 100001\n",
      "\tw :  0.0 % Ach acc:  0  state: 000000\n",
      "\tw :  0.0 % Ach acc:  0  state: 000000\n",
      "\tw :  0.0 % Ach acc:  0  state: 000000\n",
      "\tw :  0.0 % Ach acc:  0  state: 000000\n",
      "\tw :  0.0 % Ach acc:  0  state: 000000\n",
      "\tw :  0.0 % Ach acc:  0  state: 000000\n",
      "\tw :  0.0 % Ach acc:  0  state: 000000\n",
      "\tw :  16.666666666666664 % Ach acc:  0.5666666666666667  state: 100000\n",
      "\tw :  0.0 % Ach acc:  0  state: 000000\n",
      "\tw :  16.666666666666664 % Ach acc:  0.26666666666666666  state: 000010\n",
      "\tw :  33.33333333333333 % Ach acc:  0.26666666666666666  state: 010010\n",
      "\tw :  50.0 % Ach acc:  0.5666666666666667  state: 110010\n",
      "\tw :  0.0 % Ach acc:  0  state: 000000\n",
      "\tw :  16.666666666666664 % Ach acc:  0.2  state: 010000\n",
      "\tw :  33.33333333333333 % Ach acc:  0.26666666666666666  state: 010010\n",
      "\tw :  33.33333333333333 % Ach acc:  0.26666666666666666  state: 010010\n",
      "\tw :  50.0 % Ach acc:  0.36666666666666664  state: 011010\n",
      "\tw :  66.66666666666666 % Ach acc:  0.7  state: 111010\n",
      "\tw :  0.0 % Ach acc:  0  state: 000000\n",
      "\tw :  16.666666666666664 % Ach acc:  0.2  state: 001000\n",
      "\tw :  33.33333333333333 % Ach acc:  0.5666666666666667  state: 101000\n"
     ]
    }
   ],
   "source": [
    "smaller_model=compress_model(path)"
   ]
  },
  {
   "cell_type": "markdown",
   "metadata": {},
   "source": [
    "## Original model"
   ]
  },
  {
   "cell_type": "code",
   "execution_count": 16,
   "metadata": {},
   "outputs": [
    {
     "data": {
      "text/plain": [
       "OrderedDict([('0.weight',\n",
       "              tensor([[ 0.5603,  0.7337, -1.0205, -0.7228],\n",
       "                      [-0.4707,  0.2999, -0.1029,  0.2544]])),\n",
       "             ('0.bias', tensor([ 1.2029, -0.0612])),\n",
       "             ('2.weight',\n",
       "              tensor([[ 1.0233,  0.0349],\n",
       "                      [ 0.2230, -0.2756],\n",
       "                      [-0.9948, -0.0637]])),\n",
       "             ('2.bias', tensor([-1.0414,  0.3191,  1.8118]))])"
      ]
     },
     "execution_count": 16,
     "metadata": {},
     "output_type": "execute_result"
    }
   ],
   "source": [
    "model.state_dict()"
   ]
  },
  {
   "cell_type": "markdown",
   "metadata": {},
   "source": [
    "## Small model"
   ]
  },
  {
   "cell_type": "code",
   "execution_count": 12,
   "metadata": {},
   "outputs": [
    {
     "name": "stdout",
     "output_type": "stream",
     "text": [
      "OrderedDict([('0.weight', tensor([[ 0.5603,  0.7337, -1.0205, -0.7228],\n",
      "        [ 0.0000,  0.2999,  0.0000,  0.0000]])), ('0.bias', tensor([ 1.2029, -0.0612])), ('2.weight', tensor([[1.0233, 0.0000],\n",
      "        [0.2230, 0.0000],\n",
      "        [0.0000, 0.0000]])), ('2.bias', tensor([-1.0414,  0.3191,  1.8118]))])\n"
     ]
    }
   ],
   "source": [
    "print(smaller_model.state_dict())"
   ]
  },
  {
   "cell_type": "markdown",
   "metadata": {},
   "source": [
    "## Accuracy with smaller model"
   ]
  },
  {
   "cell_type": "code",
   "execution_count": 13,
   "metadata": {},
   "outputs": [
    {
     "data": {
      "text/plain": [
       "0.5666666666666667"
      ]
     },
     "execution_count": 13,
     "metadata": {},
     "output_type": "execute_result"
    }
   ],
   "source": [
    "get_accuracy(tensor_test_x, tensor_test_y,smaller_model)"
   ]
  },
  {
   "cell_type": "code",
   "execution_count": null,
   "metadata": {},
   "outputs": [],
   "source": [
    "torch.save(small_model, 'iris_compressed.pt')"
   ]
  },
  {
   "cell_type": "code",
   "execution_count": null,
   "metadata": {},
   "outputs": [],
   "source": []
  },
  {
   "cell_type": "code",
   "execution_count": null,
   "metadata": {},
   "outputs": [],
   "source": []
  },
  {
   "cell_type": "code",
   "execution_count": null,
   "metadata": {},
   "outputs": [],
   "source": []
  },
  {
   "cell_type": "code",
   "execution_count": null,
   "metadata": {},
   "outputs": [],
   "source": [
    "path='./iris_model.pt'\n",
    "dataset = pd.read_csv('./iris.csv')"
   ]
  },
  {
   "cell_type": "code",
   "execution_count": null,
   "metadata": {},
   "outputs": [],
   "source": [
    "some_model = torch.load(path)"
   ]
  },
  {
   "cell_type": "code",
   "execution_count": null,
   "metadata": {},
   "outputs": [],
   "source": [
    "some_model[2]"
   ]
  },
  {
   "cell_type": "code",
   "execution_count": null,
   "metadata": {},
   "outputs": [],
   "source": []
  }
 ],
 "metadata": {
  "accelerator": "GPU",
  "colab": {
   "collapsed_sections": [],
   "name": "RL.ipynb",
   "provenance": []
  },
  "kernelspec": {
   "display_name": "Python 3 (ipykernel)",
   "language": "python",
   "name": "python3"
  },
  "language_info": {
   "codemirror_mode": {
    "name": "ipython",
    "version": 3
   },
   "file_extension": ".py",
   "mimetype": "text/x-python",
   "name": "python",
   "nbconvert_exporter": "python",
   "pygments_lexer": "ipython3",
   "version": "3.8.10"
  }
 },
 "nbformat": 4,
 "nbformat_minor": 1
}
